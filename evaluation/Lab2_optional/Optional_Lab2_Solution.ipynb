{
 "cells": [
  {
   "cell_type": "code",
   "execution_count": 1,
   "id": "73379c0e",
   "metadata": {},
   "outputs": [],
   "source": [
    "# Intialization\n",
    "import os\n",
    "import sys\n",
    "\n",
    "os.environ[\"SPARK_HOME\"] = \"/home/talentum/spark\"\n",
    "os.environ[\"PYLIB\"] = os.environ[\"SPARK_HOME\"] + \"/python/lib\"\n",
    "# In below two lines, use /usr/bin/python2.7 if you want to use Python 2\n",
    "os.environ[\"PYSPARK_PYTHON\"] = \"/usr/bin/python3.6\" \n",
    "os.environ[\"PYSPARK_DRIVER_PYTHON\"] = \"/usr/bin/python3\"\n",
    "sys.path.insert(0, os.environ[\"PYLIB\"] +\"/py4j-0.10.7-src.zip\")\n",
    "sys.path.insert(0, os.environ[\"PYLIB\"] +\"/pyspark.zip\")\n",
    "\n",
    "# NOTE: Whichever package you want mention here.\n",
    "# os.environ['PYSPARK_SUBMIT_ARGS'] = '--packages com.databricks:spark-xml_2.11:0.6.0 pyspark-shell' \n",
    "# os.environ['PYSPARK_SUBMIT_ARGS'] = '--packages org.apache.spark:spark-avro_2.11:2.4.0 pyspark-shell'\n",
    "os.environ['PYSPARK_SUBMIT_ARGS'] = '--packages com.databricks:spark-xml_2.11:0.6.0,org.apache.spark:spark-avro_2.11:2.4.3 pyspark-shell'\n",
    "# os.environ['PYSPARK_SUBMIT_ARGS'] = '--packages com.databricks:spark-xml_2.11:0.6.0,org.apache.spark:spark-avro_2.11:2.4.0 pyspark-shell'"
   ]
  },
  {
   "cell_type": "code",
   "execution_count": 2,
   "id": "02516be4",
   "metadata": {},
   "outputs": [],
   "source": [
    "#Entrypoint 2.x\n",
    "from pyspark.sql import SparkSession\n",
    "spark = SparkSession.builder.appName(\"Spark SQL basic example\").enableHiveSupport().getOrCreate()\n",
    "\n",
    "# On yarn:\n",
    "# spark = SparkSession.builder.appName(\"Spark SQL basic example\").enableHiveSupport().master(\"yarn\").getOrCreate()\n",
    "# specify .master(\"yarn\")\n",
    "\n",
    "sc = spark.sparkContext"
   ]
  },
  {
   "cell_type": "code",
   "execution_count": 4,
   "id": "5b8fc369",
   "metadata": {
    "scrolled": false
   },
   "outputs": [],
   "source": [
    "file_path = \"file:///home/talentum/test-jupyter/evaluation/Lab2_optional/Listofstartups.csv\"\n",
    "df = spark.read.option(\"header\", \"true\").csv(file_path)\n"
   ]
  },
  {
   "cell_type": "code",
   "execution_count": 5,
   "id": "179dc1f6",
   "metadata": {},
   "outputs": [
    {
     "name": "stdout",
     "output_type": "stream",
     "text": [
      "+--------------------+--------------------+--------------------+--------------------+\n",
      "|   Incubation_Center|     Name_of_startup| Location of company|              Sector|\n",
      "+--------------------+--------------------+--------------------+--------------------+\n",
      "|      ABES Ghaziabad|            Suryansh|           New Delhi|              EdTech|\n",
      "|AIC Banasthali Vi...|Thinkpods Educati...| Satara, Maharashtra|             Ed Tech|\n",
      "|AIC Banasthali Vi...|Inventiway Soluti...| Mumbai, Maharashtra|             HR Tech|\n",
      "|AIC Banasthali Vi...|C2M Internet Indi...|Lucknow, Uttar Pr...|         Retail Tech|\n",
      "|AIC Pinnacle Entr...|            Wastinno|   Pune, Maharashtra|         agriculture|\n",
      "|AIC Pinnacle Entr...|Diabetico - Rise ...|   Pune, Maharashtra|          Healthcare|\n",
      "|AIC Pinnacle Entr...|  3DGuru Innovations|   Pune, Maharashtra|             EduTech|\n",
      "|AIC Pinnacle Entr...|     Gupte Education|   Pune, Maharashtra|    Ed Tech, Defence|\n",
      "|AIC Pinnacle Entr...|Eldew Digital Pvt...|   Pune, Maharashtra|  IT, Virtual Events|\n",
      "|AIC Pinnacle Entr...|Secumatic Technol...|   Pune, Maharashtra|             Defense|\n",
      "|AIC Pinnacle Entr...|Catalystgreen Pri...|   Pune, Maharashtra|          E-Mobility|\n",
      "|AIC Pinnacle Entr...|Dynateq Consultin...|   Pune, Maharashtra|Industril Automation|\n",
      "|           AIC@36Inc|               TECHB|              Bhilai|3d printer and cn...|\n",
      "|           AIC@36Inc|Acculegal Service...|              Raipur|Finance, Legal , ...|\n",
      "|           AIC@36Inc|Bastar Se Bazar T...|        Uttar Bastar|       Agri-business|\n",
      "|           AIC@36Inc|          Coshal Art|              Raipur|          Handicraft|\n",
      "|           AIC@36Inc|           Jivandeep|              Raipur|          Healthcare|\n",
      "|           AIC@36Inc|  Binomial Analytics|              Raipur|IT and Technology...|\n",
      "|           AIC@36Inc|              Rawfit|              Raipur|Heathcare & Wellness|\n",
      "|           AIC@36Inc|           WedNicely|              Raipur|eInvitations & We...|\n",
      "+--------------------+--------------------+--------------------+--------------------+\n",
      "only showing top 20 rows\n",
      "\n"
     ]
    }
   ],
   "source": [
    "df.show()"
   ]
  },
  {
   "cell_type": "code",
   "execution_count": 6,
   "id": "216a77ef",
   "metadata": {},
   "outputs": [
    {
     "name": "stdout",
     "output_type": "stream",
     "text": [
      "root\n",
      " |-- Incubation_Center: string (nullable = true)\n",
      " |-- Name_of_startup: string (nullable = true)\n",
      " |-- Location of company: string (nullable = true)\n",
      " |-- Sector: string (nullable = true)\n",
      "\n"
     ]
    }
   ],
   "source": [
    "df.printSchema()"
   ]
  },
  {
   "cell_type": "code",
   "execution_count": 29,
   "id": "cd9f882f",
   "metadata": {},
   "outputs": [],
   "source": [
    "from pyspark.sql.functions import *\n"
   ]
  },
  {
   "cell_type": "code",
   "execution_count": 10,
   "id": "4ade27d5",
   "metadata": {},
   "outputs": [
    {
     "name": "stdout",
     "output_type": "stream",
     "text": [
      "Sector with most startups: [Row(Sector='Healthcare', count=34)]\n",
      "+--------------------+-----+\n",
      "|              Sector|count|\n",
      "+--------------------+-----+\n",
      "|          Healthcare|   34|\n",
      "|     ICT Electronics|    5|\n",
      "|            Agritech|    5|\n",
      "|Education Technology|    5|\n",
      "|                 IOT|    4|\n",
      "|      Digital Health|    4|\n",
      "|                 IoT|    4|\n",
      "| Digital Health Tech|    3|\n",
      "|              EdTech|    3|\n",
      "|             EduTech|    3|\n",
      "|          Healthtech|    3|\n",
      "|              Energy|    2|\n",
      "|            Fit-Tech|    2|\n",
      "|               AR/VR|    2|\n",
      "|                  EV|    2|\n",
      "|             Fintech|    2|\n",
      "|        Clean Energy|    2|\n",
      "|Industrial Automa...|    2|\n",
      "|Information Techn...|    2|\n",
      "|           Education|    2|\n",
      "+--------------------+-----+\n",
      "only showing top 20 rows\n",
      "\n"
     ]
    }
   ],
   "source": [
    "sector_count = df.groupBy(\"Sector\").count().orderBy(F.col(\"count\").desc())\n",
    "print(f\"Sector with most startups: {sector_count.take(1)}\")\n",
    "sector_count.show()"
   ]
  },
  {
   "cell_type": "code",
   "execution_count": 30,
   "id": "e6445f8e",
   "metadata": {},
   "outputs": [
    {
     "name": "stdout",
     "output_type": "stream",
     "text": [
      "+--------------------+--------------------+--------------------+------------+-------------+\n",
      "|   Incubation_Center|     Name_of_startup|              Sector|        city|        state|\n",
      "+--------------------+--------------------+--------------------+------------+-------------+\n",
      "|      ABES Ghaziabad|            Suryansh|              EdTech|   New Delhi|         null|\n",
      "|AIC Banasthali Vi...|Thinkpods Educati...|             Ed Tech|      Satara|  Maharashtra|\n",
      "|AIC Banasthali Vi...|Inventiway Soluti...|             HR Tech|      Mumbai|  Maharashtra|\n",
      "|AIC Banasthali Vi...|C2M Internet Indi...|         Retail Tech|     Lucknow|Uttar Pradesh|\n",
      "|AIC Pinnacle Entr...|            Wastinno|         agriculture|        Pune|  Maharashtra|\n",
      "|AIC Pinnacle Entr...|Diabetico - Rise ...|          Healthcare|        Pune|  Maharashtra|\n",
      "|AIC Pinnacle Entr...|  3DGuru Innovations|             EduTech|        Pune|  Maharashtra|\n",
      "|AIC Pinnacle Entr...|     Gupte Education|    Ed Tech, Defence|        Pune|  Maharashtra|\n",
      "|AIC Pinnacle Entr...|Eldew Digital Pvt...|  IT, Virtual Events|        Pune|  Maharashtra|\n",
      "|AIC Pinnacle Entr...|Secumatic Technol...|             Defense|        Pune|  Maharashtra|\n",
      "|AIC Pinnacle Entr...|Catalystgreen Pri...|          E-Mobility|        Pune|  Maharashtra|\n",
      "|AIC Pinnacle Entr...|Dynateq Consultin...|Industril Automation|        Pune|  Maharashtra|\n",
      "|           AIC@36Inc|               TECHB|3d printer and cn...|      Bhilai|         null|\n",
      "|           AIC@36Inc|Acculegal Service...|Finance, Legal , ...|      Raipur|         null|\n",
      "|           AIC@36Inc|Bastar Se Bazar T...|       Agri-business|Uttar Bastar|         null|\n",
      "|           AIC@36Inc|          Coshal Art|          Handicraft|      Raipur|         null|\n",
      "|           AIC@36Inc|           Jivandeep|          Healthcare|      Raipur|         null|\n",
      "|           AIC@36Inc|  Binomial Analytics|IT and Technology...|      Raipur|         null|\n",
      "|           AIC@36Inc|              Rawfit|Heathcare & Wellness|      Raipur|         null|\n",
      "|           AIC@36Inc|           WedNicely|eInvitations & We...|      Raipur|         null|\n",
      "+--------------------+--------------------+--------------------+------------+-------------+\n",
      "only showing top 20 rows\n",
      "\n"
     ]
    }
   ],
   "source": [
    "df = df.withColumn(\"city\", split(col(\"Location of company\"), \", \").getItem(0))\n",
    "df = df.withColumn(\"state\", split(col(\"Location of company\"), \", \").getItem(1))\n",
    "df.drop('Location of company').show()"
   ]
  },
  {
   "cell_type": "code",
   "execution_count": 15,
   "id": "05faabd6",
   "metadata": {},
   "outputs": [
    {
     "name": "stdout",
     "output_type": "stream",
     "text": [
      "+--------------------+--------------------+-------------------+---------+----------+-----------+\n",
      "|   Incubation_Center|     Name_of_startup|Location of company|   Sector|      city|      state|\n",
      "+--------------------+--------------------+-------------------+---------+----------+-----------+\n",
      "|Society for Innov...|Develop Train Mai...|         Ulhasnagar|CleanTech|Ulhasnagar|Maharashtra|\n",
      "+--------------------+--------------------+-------------------+---------+----------+-----------+\n",
      "\n"
     ]
    }
   ],
   "source": [
    "df = df.withColumn(\"state\", when(col(\"Location of company\").contains(\"DIAT,Pune\"), \"Maharashtra\").otherwise(col(\"state\")))\n",
    "df = df.withColumn(\"city\", when(col(\"Location of company\").contains(\"DIAT,Pune\"), \"Pune\").otherwise(col(\"city\")))\n",
    "\n",
    "df = df.withColumn(\"state\", when(col(\"Location of company\").contains(\"Ulhasnagar\"), \"Maharashtra\").otherwise(col(\"state\")))\n",
    "df = df.withColumn(\"city\", when(col(\"Location of company\").contains(\"Ulhasnagar\"), \"Ulhasnagar\").otherwise(col(\"city\")))\n",
    "df.filter(df.city == 'Ulhasnagar').show()"
   ]
  },
  {
   "cell_type": "code",
   "execution_count": 31,
   "id": "57129af2",
   "metadata": {},
   "outputs": [
    {
     "name": "stdout",
     "output_type": "stream",
     "text": [
      "+--------------+-----+\n",
      "|         state|count|\n",
      "+--------------+-----+\n",
      "|          null|   69|\n",
      "|     Karnataka|   35|\n",
      "|   Maharashtra|   32|\n",
      "|     Tamilnadu|   24|\n",
      "| Uttar Pradesh|   24|\n",
      "|     Telangana|   12|\n",
      "|         Delhi|    9|\n",
      "|     Rajasthan|    7|\n",
      "|       Gujarat|    7|\n",
      "|    Tamil Nadu|    6|\n",
      "|       Haryana|    5|\n",
      "|Andhra Pradesh|    4|\n",
      "|   West Bengal|    2|\n",
      "|        Punjab|    1|\n",
      "|            HP|    1|\n",
      "|         BIHAR|    1|\n",
      "|     Hyderabad|    1|\n",
      "|   IIT Roorkee|    1|\n",
      "+--------------+-----+\n",
      "\n"
     ]
    }
   ],
   "source": [
    "    df.groupBy(df.state).count().orderBy(col('count').desc()).show()\n",
    "#     df.groupBy(\"Sector\").count().orderBy(F.col(\"count\").desc())"
   ]
  },
  {
   "cell_type": "code",
   "execution_count": 17,
   "id": "ccf84dc4",
   "metadata": {},
   "outputs": [
    {
     "name": "stdout",
     "output_type": "stream",
     "text": [
      "+--------------------+--------------------+--------------------+--------------------+-------+-----------+\n",
      "|   Incubation_Center|     Name_of_startup| Location of company|              Sector|   city|      state|\n",
      "+--------------------+--------------------+--------------------+--------------------+-------+-----------+\n",
      "|AIC Banasthali Vi...|Thinkpods Educati...| Satara, Maharashtra|             Ed Tech| Satara|Maharashtra|\n",
      "|AIC Banasthali Vi...|Inventiway Soluti...| Mumbai, Maharashtra|             HR Tech| Mumbai|Maharashtra|\n",
      "|AIC Pinnacle Entr...|            Wastinno|   Pune, Maharashtra|         agriculture|   Pune|Maharashtra|\n",
      "|AIC Pinnacle Entr...|Diabetico - Rise ...|   Pune, Maharashtra|          Healthcare|   Pune|Maharashtra|\n",
      "|AIC Pinnacle Entr...|  3DGuru Innovations|   Pune, Maharashtra|             EduTech|   Pune|Maharashtra|\n",
      "|AIC Pinnacle Entr...|     Gupte Education|   Pune, Maharashtra|    Ed Tech, Defence|   Pune|Maharashtra|\n",
      "|AIC Pinnacle Entr...|Eldew Digital Pvt...|   Pune, Maharashtra|  IT, Virtual Events|   Pune|Maharashtra|\n",
      "|AIC Pinnacle Entr...|Secumatic Technol...|   Pune, Maharashtra|             Defense|   Pune|Maharashtra|\n",
      "|AIC Pinnacle Entr...|Catalystgreen Pri...|   Pune, Maharashtra|          E-Mobility|   Pune|Maharashtra|\n",
      "|AIC Pinnacle Entr...|Dynateq Consultin...|   Pune, Maharashtra|Industril Automation|   Pune|Maharashtra|\n",
      "|Bio-incubator at ...|    ARQ Solution LLP| Mumbai, Maharashtra|          Healthcare| Mumbai|Maharashtra|\n",
      "|    CIIE Initiatives|             Kidaura|Nashik , Maharashtra|          Healthcare|Nashik |Maharashtra|\n",
      "|    CIIE Initiatives|      Pacify Medical| Mumbai, Maharashtra|          Healthcare| Mumbai|Maharashtra|\n",
      "|    CIIE Initiatives|Godaam Innovation...|Nashik , Maharashtra|            Agritech|Nashik |Maharashtra|\n",
      "|     FITT, IIT Delhi|Ambrosius Tech Pv...| Satara, Maharashtra|              EdTech| Satara|Maharashtra|\n",
      "|     FITT, IIT Delhi|  Ominar Innovations|   Pune, Maharashtra|Digital Health he...|   Pune|Maharashtra|\n",
      "|Forge (Coimbatore...|Abhaya Informatio...| Mumbai, Maharashtra| Digital Health Tech| Mumbai|Maharashtra|\n",
      "|  IIT Mandi Catalyst|Datalytics Techno...| Nagpur, Maharashtra|Business Intelleg...| Nagpur|Maharashtra|\n",
      "|  IIT Mandi Catalyst|            IntelVib|           DIAT,Pune|       Manufacturing|   Pune|Maharashtra|\n",
      "|  IIT Mandi Catalyst|Farm Intelligent ...|   Pune, Maharashtra|Agri Tech, Robotics,|   Pune|Maharashtra|\n",
      "+--------------------+--------------------+--------------------+--------------------+-------+-----------+\n",
      "only showing top 20 rows\n",
      "\n"
     ]
    }
   ],
   "source": [
    "df.filter(df.state == \"Maharashtra\").show()"
   ]
  },
  {
   "cell_type": "code",
   "execution_count": 18,
   "id": "fa76ba90",
   "metadata": {},
   "outputs": [
    {
     "data": {
      "text/plain": [
       "34"
      ]
     },
     "execution_count": 18,
     "metadata": {},
     "output_type": "execute_result"
    }
   ],
   "source": [
    "df.filter(df.Sector == \"Healthcare\").count()"
   ]
  },
  {
   "cell_type": "code",
   "execution_count": 19,
   "id": "3f724403",
   "metadata": {},
   "outputs": [
    {
     "name": "stdout",
     "output_type": "stream",
     "text": [
      "+--------------------+--------------------+-------------------+--------------------+----+-----------+\n",
      "|   Incubation_Center|     Name_of_startup|Location of company|              Sector|city|      state|\n",
      "+--------------------+--------------------+-------------------+--------------------+----+-----------+\n",
      "|AIC Pinnacle Entr...|            Wastinno|  Pune, Maharashtra|         agriculture|Pune|Maharashtra|\n",
      "|AIC Pinnacle Entr...|Diabetico - Rise ...|  Pune, Maharashtra|          Healthcare|Pune|Maharashtra|\n",
      "|AIC Pinnacle Entr...|  3DGuru Innovations|  Pune, Maharashtra|             EduTech|Pune|Maharashtra|\n",
      "|AIC Pinnacle Entr...|     Gupte Education|  Pune, Maharashtra|    Ed Tech, Defence|Pune|Maharashtra|\n",
      "|AIC Pinnacle Entr...|Eldew Digital Pvt...|  Pune, Maharashtra|  IT, Virtual Events|Pune|Maharashtra|\n",
      "|AIC Pinnacle Entr...|Secumatic Technol...|  Pune, Maharashtra|             Defense|Pune|Maharashtra|\n",
      "|AIC Pinnacle Entr...|Catalystgreen Pri...|  Pune, Maharashtra|          E-Mobility|Pune|Maharashtra|\n",
      "|AIC Pinnacle Entr...|Dynateq Consultin...|  Pune, Maharashtra|Industril Automation|Pune|Maharashtra|\n",
      "|     FITT, IIT Delhi|  Ominar Innovations|  Pune, Maharashtra|Digital Health he...|Pune|Maharashtra|\n",
      "|  IIT Mandi Catalyst|            IntelVib|          DIAT,Pune|       Manufacturing|Pune|Maharashtra|\n",
      "|  IIT Mandi Catalyst|Farm Intelligent ...|  Pune, Maharashtra|Agri Tech, Robotics,|Pune|Maharashtra|\n",
      "|Society for Innov...|Udayan Ecotech Pv...|  Pune, Maharashtra|                  EV|Pune|Maharashtra|\n",
      "|Society for Innov...|Clairvoyance Mind...|  Pune, Maharashtra|          Healthcare|Pune|Maharashtra|\n",
      "|              VITTBI|Fat Cat Robotics ...|  Pune, Maharashtra|                 IoT|Pune|Maharashtra|\n",
      "+--------------------+--------------------+-------------------+--------------------+----+-----------+\n",
      "\n"
     ]
    }
   ],
   "source": [
    "df.filter((df.city == 'Nashik') | (df.city == 'Pune')).show()    "
   ]
  },
  {
   "cell_type": "code",
   "execution_count": 20,
   "id": "e92a3218",
   "metadata": {},
   "outputs": [
    {
     "name": "stdout",
     "output_type": "stream",
     "text": [
      "+----------+-----+\n",
      "|      city|count|\n",
      "+----------+-----+\n",
      "|      Pune|   14|\n",
      "|    Mumbai|    9|\n",
      "|   Nashik |    5|\n",
      "|    Nagpur|    2|\n",
      "|    Satara|    2|\n",
      "|     Thane|    1|\n",
      "|Ulhasnagar|    1|\n",
      "+----------+-----+\n",
      "\n"
     ]
    }
   ],
   "source": [
    "df.filter(df.state == \"Maharashtra\").groupBy(df.city).count().orderBy(col('count').desc()).show()"
   ]
  },
  {
   "cell_type": "code",
   "execution_count": 21,
   "id": "727b5fde",
   "metadata": {},
   "outputs": [
    {
     "data": {
      "text/plain": [
       "75"
      ]
     },
     "execution_count": 21,
     "metadata": {},
     "output_type": "execute_result"
    }
   ],
   "source": [
    "states = [\"Karnataka\", \"Tamilnadu\", \"Telangana\", \"Andhra Pradesh\"]\n",
    "df.filter(df.state.isin(states)).count()"
   ]
  },
  {
   "cell_type": "code",
   "execution_count": 22,
   "id": "4d02cc08",
   "metadata": {},
   "outputs": [
    {
     "name": "stdout",
     "output_type": "stream",
     "text": [
      "+--------------+-----+\n",
      "|         state|count|\n",
      "+--------------+-----+\n",
      "|Andhra Pradesh|    4|\n",
      "|     Telangana|   12|\n",
      "|     Tamilnadu|   24|\n",
      "|     Karnataka|   35|\n",
      "+--------------+-----+\n",
      "\n"
     ]
    }
   ],
   "source": [
    "df.filter(df.state.isin(states)).groupBy(df.state).count().orderBy(col('count')).show()"
   ]
  },
  {
   "cell_type": "code",
   "execution_count": 23,
   "id": "960c6814",
   "metadata": {},
   "outputs": [
    {
     "data": {
      "text/plain": [
       "7"
      ]
     },
     "execution_count": 23,
     "metadata": {},
     "output_type": "execute_result"
    }
   ],
   "source": [
    "df.filter(df.state == \"Gujarat\").count()"
   ]
  },
  {
   "cell_type": "code",
   "execution_count": 24,
   "id": "6d8fdffe",
   "metadata": {},
   "outputs": [
    {
     "data": {
      "text/plain": [
       "65"
      ]
     },
     "execution_count": 24,
     "metadata": {},
     "output_type": "execute_result"
    }
   ],
   "source": [
    "df.filter((~ df.state.isin(states)) & ( df.state != \"Maharashtra\")).count()"
   ]
  },
  {
   "cell_type": "code",
   "execution_count": 25,
   "id": "00c690af",
   "metadata": {},
   "outputs": [
    {
     "name": "stdout",
     "output_type": "stream",
     "text": [
      "south state %:  31.12033195020747\n"
     ]
    }
   ],
   "source": [
    " print(\"south state %: \",df.filter(df.state.isin(states)).count() * 100 / df.count())"
   ]
  },
  {
   "cell_type": "code",
   "execution_count": 26,
   "id": "758c9d80",
   "metadata": {},
   "outputs": [
    {
     "name": "stdout",
     "output_type": "stream",
     "text": [
      "Maharashtra %:  14.107883817427386\n"
     ]
    }
   ],
   "source": [
    " print(\"Maharashtra %: \",df.filter(df.state == \"Maharashtra\").count() * 100 / df.count())"
   ]
  },
  {
   "cell_type": "code",
   "execution_count": 27,
   "id": "69c32404",
   "metadata": {},
   "outputs": [
    {
     "name": "stdout",
     "output_type": "stream",
     "text": [
      "Gujarat %:  2.904564315352697\n"
     ]
    }
   ],
   "source": [
    " print(\"Gujarat %: \",df.filter(df.state == \"Gujarat\").count() * 100 / df.count())"
   ]
  },
  {
   "cell_type": "code",
   "execution_count": 28,
   "id": "4cd7112b",
   "metadata": {},
   "outputs": [
    {
     "name": "stdout",
     "output_type": "stream",
     "text": [
      "+--------------------+--------------------+--------------------+--------------------+------------+-------------+\n",
      "|   Incubation_Center|     Name_of_startup| Location of company|              Sector|        city|        state|\n",
      "+--------------------+--------------------+--------------------+--------------------+------------+-------------+\n",
      "|      ABES Ghaziabad|            Suryansh|           New Delhi|              EdTech|   New Delhi|      Unknown|\n",
      "|AIC Banasthali Vi...|Thinkpods Educati...| Satara, Maharashtra|             Ed Tech|      Satara|  Maharashtra|\n",
      "|AIC Banasthali Vi...|Inventiway Soluti...| Mumbai, Maharashtra|             HR Tech|      Mumbai|  Maharashtra|\n",
      "|AIC Banasthali Vi...|C2M Internet Indi...|Lucknow, Uttar Pr...|         Retail Tech|     Lucknow|Uttar Pradesh|\n",
      "|AIC Pinnacle Entr...|            Wastinno|   Pune, Maharashtra|         agriculture|        Pune|  Maharashtra|\n",
      "|AIC Pinnacle Entr...|Diabetico - Rise ...|   Pune, Maharashtra|          Healthcare|        Pune|  Maharashtra|\n",
      "|AIC Pinnacle Entr...|  3DGuru Innovations|   Pune, Maharashtra|             EduTech|        Pune|  Maharashtra|\n",
      "|AIC Pinnacle Entr...|     Gupte Education|   Pune, Maharashtra|    Ed Tech, Defence|        Pune|  Maharashtra|\n",
      "|AIC Pinnacle Entr...|Eldew Digital Pvt...|   Pune, Maharashtra|  IT, Virtual Events|        Pune|  Maharashtra|\n",
      "|AIC Pinnacle Entr...|Secumatic Technol...|   Pune, Maharashtra|             Defense|        Pune|  Maharashtra|\n",
      "|AIC Pinnacle Entr...|Catalystgreen Pri...|   Pune, Maharashtra|          E-Mobility|        Pune|  Maharashtra|\n",
      "|AIC Pinnacle Entr...|Dynateq Consultin...|   Pune, Maharashtra|Industril Automation|        Pune|  Maharashtra|\n",
      "|           AIC@36Inc|               TECHB|              Bhilai|3d printer and cn...|      Bhilai|      Unknown|\n",
      "|           AIC@36Inc|Acculegal Service...|              Raipur|Finance, Legal , ...|      Raipur|      Unknown|\n",
      "|           AIC@36Inc|Bastar Se Bazar T...|        Uttar Bastar|       Agri-business|Uttar Bastar|      Unknown|\n",
      "|           AIC@36Inc|          Coshal Art|              Raipur|          Handicraft|      Raipur|      Unknown|\n",
      "|           AIC@36Inc|           Jivandeep|              Raipur|          Healthcare|      Raipur|      Unknown|\n",
      "|           AIC@36Inc|  Binomial Analytics|              Raipur|IT and Technology...|      Raipur|      Unknown|\n",
      "|           AIC@36Inc|              Rawfit|              Raipur|Heathcare & Wellness|      Raipur|      Unknown|\n",
      "|           AIC@36Inc|           WedNicely|              Raipur|eInvitations & We...|      Raipur|      Unknown|\n",
      "+--------------------+--------------------+--------------------+--------------------+------------+-------------+\n",
      "only showing top 20 rows\n",
      "\n"
     ]
    }
   ],
   "source": [
    "# df.na.fill({'age': 50, 'name': 'unknown'}).show()\n",
    "df.na.fill({'state': 'Unknown'}).show()"
   ]
  },
  {
   "cell_type": "code",
   "execution_count": null,
   "id": "d16bc440",
   "metadata": {},
   "outputs": [],
   "source": []
  }
 ],
 "metadata": {
  "kernelspec": {
   "display_name": "Python 3",
   "language": "python",
   "name": "python3"
  },
  "language_info": {
   "codemirror_mode": {
    "name": "ipython",
    "version": 3
   },
   "file_extension": ".py",
   "mimetype": "text/x-python",
   "name": "python",
   "nbconvert_exporter": "python",
   "pygments_lexer": "ipython3",
   "version": "3.6.9"
  }
 },
 "nbformat": 4,
 "nbformat_minor": 5
}
