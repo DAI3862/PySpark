{
 "cells": [
  {
   "cell_type": "code",
   "execution_count": 1,
   "id": "7e31449f",
   "metadata": {},
   "outputs": [],
   "source": [
    "# Intialization\n",
    "import os\n",
    "import sys\n",
    "\n",
    "os.environ[\"SPARK_HOME\"] = \"/home/talentum/spark\"\n",
    "os.environ[\"PYLIB\"] = os.environ[\"SPARK_HOME\"] + \"/python/lib\"\n",
    "# In below two lines, use /usr/bin/python2.7 if you want to use Python 2\n",
    "os.environ[\"PYSPARK_PYTHON\"] = \"/usr/bin/python3.6\" \n",
    "os.environ[\"PYSPARK_DRIVER_PYTHON\"] = \"/usr/bin/python3\"\n",
    "sys.path.insert(0, os.environ[\"PYLIB\"] +\"/py4j-0.10.7-src.zip\")\n",
    "sys.path.insert(0, os.environ[\"PYLIB\"] +\"/pyspark.zip\")\n",
    "\n",
    "# NOTE: Whichever package you want mention here.\n",
    "# os.environ['PYSPARK_SUBMIT_ARGS'] = '--packages com.databricks:spark-xml_2.11:0.6.0 pyspark-shell' \n",
    "# os.environ['PYSPARK_SUBMIT_ARGS'] = '--packages org.apache.spark:spark-avro_2.11:2.4.0 pyspark-shell'\n",
    "os.environ['PYSPARK_SUBMIT_ARGS'] = '--packages com.databricks:spark-xml_2.11:0.6.0,org.apache.spark:spark-avro_2.11:2.4.3 pyspark-shell'\n",
    "# os.environ['PYSPARK_SUBMIT_ARGS'] = '--packages com.databricks:spark-xml_2.11:0.6.0,org.apache.spark:spark-avro_2.11:2.4.0 pyspark-shell'"
   ]
  },
  {
   "cell_type": "code",
   "execution_count": 2,
   "id": "8399f128",
   "metadata": {},
   "outputs": [],
   "source": [
    "#Entrypoint 2.x\n",
    "from pyspark.sql import SparkSession\n",
    "spark = SparkSession.builder.appName(\"Spark SQL basic example\").enableHiveSupport().getOrCreate()\n",
    "\n",
    "# On yarn:\n",
    "# spark = SparkSession.builder.appName(\"Spark SQL basic example\").enableHiveSupport().master(\"yarn\").getOrCreate()\n",
    "# specify .master(\"yarn\")\n",
    "\n",
    "sc = spark.sparkContext"
   ]
  },
  {
   "cell_type": "code",
   "execution_count": 3,
   "id": "7d9aa72c",
   "metadata": {},
   "outputs": [
    {
     "name": "stdout",
     "output_type": "stream",
     "text": [
      "root\n",
      " |-- value: string (nullable = true)\n",
      "\n"
     ]
    }
   ],
   "source": [
    "line = spark.read.text('file:///home/talentum/test-jupyter/practice/constitution.txt')\n",
    "line.printSchema()"
   ]
  },
  {
   "cell_type": "code",
   "execution_count": 4,
   "id": "d47f03d7",
   "metadata": {},
   "outputs": [
    {
     "name": "stdout",
     "output_type": "stream",
     "text": [
      "+-------------------------------------------------------------------------+\n",
      "|value                                                                    |\n",
      "+-------------------------------------------------------------------------+\n",
      "|We the People of the United States, in Order to form a more perfect      |\n",
      "|Union, establish Justice, insure domestic Tranquility, provide for the   |\n",
      "|common defence, promote the general Welfare, and secure the Blessings of |\n",
      "|Liberty to ourselves and our Posterity, do ordain and establish this     |\n",
      "|Constitution for the United States of America.                           |\n",
      "|Article 1.  Section 1 All legislative Powers herein granted shall be     |\n",
      "|vested in a Congress of the United States, which shall consist of a      |\n",
      "|Senate and House of Representatives.  Section 2 The House of             |\n",
      "|Representatives shall be composed of Members chosen every second Year by |\n",
      "|the People of the several States, and the Electors in each State shall   |\n",
      "|have the Qualifications requisite for Electors of the most numerous      |\n",
      "|Branch of the State Legislature.  No Person shall be a Representative    |\n",
      "|who shall not have attained to the Age of twenty five Years, and been    |\n",
      "|seven Years a Citizen of the United States, and who shall not, when      |\n",
      "|elected, be an Inhabitant of that State in which he shall be chosen.     |\n",
      "|Representatives and direct Taxes shall be apportioned among the several  |\n",
      "|States which may be included within this Union, according to their       |\n",
      "|respective Numbers, which shall be determined by adding to the whole     |\n",
      "|Number of free Persons, including those bound to Service for a Term of   |\n",
      "|Years, and excluding Indians not taxed, three fifths of all other        |\n",
      "+-------------------------------------------------------------------------+\n",
      "only showing top 20 rows\n",
      "\n"
     ]
    }
   ],
   "source": [
    "line.show(truncate= False)"
   ]
  },
  {
   "cell_type": "code",
   "execution_count": 5,
   "id": "5f745767",
   "metadata": {},
   "outputs": [
    {
     "name": "stdout",
     "output_type": "stream",
     "text": [
      "root\n",
      " |-- value: string (nullable = true)\n",
      " |-- Split: array (nullable = true)\n",
      " |    |-- element: string (containsNull = true)\n",
      "\n"
     ]
    }
   ],
   "source": [
    "import pyspark.sql.functions as F\n",
    "\n",
    "lines = line.withColumn('Split', F.split(line.value, ' '))\n",
    "lines.printSchema()"
   ]
  },
  {
   "cell_type": "code",
   "execution_count": 6,
   "id": "037a2d8c",
   "metadata": {},
   "outputs": [
    {
     "name": "stdout",
     "output_type": "stream",
     "text": [
      "+--------------------------------------------------------------------------------------+\n",
      "|Split                                                                                 |\n",
      "+--------------------------------------------------------------------------------------+\n",
      "|[We, the, People, of, the, United, States,, in, Order, to, form, a, more, perfect, ]  |\n",
      "|[Union,, establish, Justice,, insure, domestic, Tranquility,, provide, for, the, ]    |\n",
      "|[common, defence,, promote, the, general, Welfare,, and, secure, the, Blessings, of, ]|\n",
      "|[Liberty, to, ourselves, and, our, Posterity,, do, ordain, and, establish, this, ]    |\n",
      "|[Constitution, for, the, United, States, of, America., , ]                            |\n",
      "|[Article, 1., , Section, 1, All, legislative, Powers, herein, granted, shall, be, ]   |\n",
      "|[vested, in, a, Congress, of, the, United, States,, which, shall, consist, of, a, ]   |\n",
      "|[Senate, and, House, of, Representatives., , Section, 2, The, House, of, ]            |\n",
      "|[Representatives, shall, be, composed, of, Members, chosen, every, second, Year, by, ]|\n",
      "|[the, People, of, the, several, States,, and, the, Electors, in, each, State, shall, ]|\n",
      "|[have, the, Qualifications, requisite, for, Electors, of, the, most, numerous, ]      |\n",
      "|[Branch, of, the, State, Legislature., , No, Person, shall, be, a, Representative, ]  |\n",
      "|[who, shall, not, have, attained, to, the, Age, of, twenty, five, Years,, and, been, ]|\n",
      "|[seven, Years, a, Citizen, of, the, United, States,, and, who, shall, not,, when, ]   |\n",
      "|[elected,, be, an, Inhabitant, of, that, State, in, which, he, shall, be, chosen., , ]|\n",
      "|[Representatives, and, direct, Taxes, shall, be, apportioned, among, the, several, ]  |\n",
      "|[States, which, may, be, included, within, this, Union,, according, to, their, ]      |\n",
      "|[respective, Numbers,, which, shall, be, determined, by, adding, to, the, whole, ]    |\n",
      "|[Number, of, free, Persons,, including, those, bound, to, Service, for, a, Term, of, ]|\n",
      "|[Years,, and, excluding, Indians, not, taxed,, three, fifths, of, all, other, ]       |\n",
      "+--------------------------------------------------------------------------------------+\n",
      "only showing top 20 rows\n",
      "\n"
     ]
    }
   ],
   "source": [
    "lines.select('Split').show(truncate= False)"
   ]
  },
  {
   "cell_type": "code",
   "execution_count": 7,
   "id": "b2681500",
   "metadata": {
    "scrolled": false
   },
   "outputs": [],
   "source": [
    "lines= lines.select(F.explode('Split').alias('Word'))"
   ]
  },
  {
   "cell_type": "code",
   "execution_count": 8,
   "id": "61d9a020",
   "metadata": {},
   "outputs": [],
   "source": [
    "word_count = lines.groupBy('Word').count()"
   ]
  },
  {
   "cell_type": "code",
   "execution_count": 9,
   "id": "c3ab1a5e",
   "metadata": {},
   "outputs": [
    {
     "name": "stdout",
     "output_type": "stream",
     "text": [
      "+------------+-----+\n",
      "|        Word|count|\n",
      "+------------+-----+\n",
      "|  Inhabitant|    3|\n",
      "|       those|    6|\n",
      "|Affirmation.|    1|\n",
      "|        some|    1|\n",
      "|     Office.|    2|\n",
      "| Legislation|    1|\n",
      "|    thereof.|    3|\n",
      "|     highest|    3|\n",
      "|      Union;|    1|\n",
      "|       parts|    1|\n",
      "|   construed|    4|\n",
      "|  indictment|    1|\n",
      "|      speedy|    1|\n",
      "|jurisdiction|    3|\n",
      "|    beverage|    1|\n",
      "|        Day.|    1|\n",
      "|        coin|    2|\n",
      "|         be,|    1|\n",
      "|       equal|    6|\n",
      "|    Services|    1|\n",
      "+------------+-----+\n",
      "only showing top 20 rows\n",
      "\n"
     ]
    }
   ],
   "source": [
    "word_count.show()"
   ]
  },
  {
   "cell_type": "code",
   "execution_count": null,
   "id": "5ba8580a",
   "metadata": {},
   "outputs": [],
   "source": []
  }
 ],
 "metadata": {
  "kernelspec": {
   "display_name": "Python 3",
   "language": "python",
   "name": "python3"
  },
  "language_info": {
   "codemirror_mode": {
    "name": "ipython",
    "version": 3
   },
   "file_extension": ".py",
   "mimetype": "text/x-python",
   "name": "python",
   "nbconvert_exporter": "python",
   "pygments_lexer": "ipython3",
   "version": "3.6.9"
  }
 },
 "nbformat": 4,
 "nbformat_minor": 5
}
