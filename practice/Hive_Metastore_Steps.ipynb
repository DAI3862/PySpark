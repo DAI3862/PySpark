{
 "cells": [
  {
   "cell_type": "markdown",
   "id": "54ec7732",
   "metadata": {},
   "source": [
    "1. Spark SQL is having a dependency on Hive Metastore.\n",
    "2. Hive Metastore is having a dependency on Hadoop.\n",
    "3. Hadoop is made up of\n",
    "    1. HDFS (Storage)\n",
    "    2. YARN (Cluster Resource Manager)\n",
    "    3. MR (Map Reduce) (Distributed Programming Framework)\n",
    "4. HDFS is having following daemon processes\n",
    "    1. NameNode\n",
    "    2. DataNode \n",
    "    3. SecondaryNamenode\n",
    "5. YARN is having following daemon processes\n",
    "    1. ResourceMangager\n",
    "    2. NodeManager\n",
    "6. MR don't have any daemon processes\n",
    "\n"
   ]
  },
  {
   "cell_type": "markdown",
   "id": "22e6e893",
   "metadata": {},
   "source": [
    "Sequence will be\n",
    "1. Start HDFS\n",
    "2. Start YARN\n",
    "3. Start Hive Metastore\n",
    "4. Implement Spark SQL application"
   ]
  },
  {
   "cell_type": "markdown",
   "id": "2b9c58b9",
   "metadata": {},
   "source": [
    "#### HDFS\n",
    "`./run-hdfs.sh `: for finding the OPTION for running the shell script (-s start)\n",
    "\n",
    "`head -n 10 ./run-hdfs.sh`: This script starts and stops hadoop hdfs service\n",
    "Prerequisit is that namenode is formatted using command `hdfs namenode -format`\n",
    "\n",
    "`hdfs namenode -format`\n",
    "\n",
    "`./run-hdfs.sh -s start`"
   ]
  },
  {
   "cell_type": "markdown",
   "id": "c349311f",
   "metadata": {},
   "source": [
    "#### YARN\n",
    "\n",
    "`./run-yarn.sh`: for finding the OPTION for running the shell script (-s start)\n",
    "\n",
    "`head -n 10 ./run-yarn.sh`: #!/bin/bash\n",
    " This script starts and stops hadoop yarn service\n",
    "Prerequisit is that hdfs daemons are running\n",
    "Post running activity is to create a user home on hdfs using `hdfs dfs -mkdir -p /user/talentum`\n",
    "\n",
    "`hdfs dfs -mkdir -p /user/talentum`\n",
    "\n",
    "`./run-yarn.sh -s start`\n"
   ]
  },
  {
   "cell_type": "markdown",
   "id": "14ede230",
   "metadata": {},
   "source": [
    "#### Hive Metastore\n",
    "\n",
    "`head -n 10 ./run-hivemetastore.sh`:#!/bin/bash\n",
    "This script starts and remote hive metastore service\n",
    "Perequisit is that\\1) hadoop cluster is running\n",
    "2) A /user/hive/warehouse folder is there in HDFS\n",
    "\n",
    "`hdfs dfs -mkdir -p /user/hive/warehouse`\n",
    "\n",
    "`./run-hivemetastore.sh -s start`"
   ]
  }
 ],
 "metadata": {
  "kernelspec": {
   "display_name": "Python 3",
   "language": "python",
   "name": "python3"
  },
  "language_info": {
   "codemirror_mode": {
    "name": "ipython",
    "version": 3
   },
   "file_extension": ".py",
   "mimetype": "text/x-python",
   "name": "python",
   "nbconvert_exporter": "python",
   "pygments_lexer": "ipython3",
   "version": "3.6.9"
  }
 },
 "nbformat": 4,
 "nbformat_minor": 5
}
