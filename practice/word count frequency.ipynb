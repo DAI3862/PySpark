{
 "cells": [
  {
   "cell_type": "code",
   "execution_count": 1,
   "id": "7e31449f",
   "metadata": {},
   "outputs": [],
   "source": [
    "# Intialization\n",
    "import os\n",
    "import sys\n",
    "\n",
    "os.environ[\"SPARK_HOME\"] = \"/home/talentum/spark\"\n",
    "os.environ[\"PYLIB\"] = os.environ[\"SPARK_HOME\"] + \"/python/lib\"\n",
    "# In below two lines, use /usr/bin/python2.7 if you want to use Python 2\n",
    "os.environ[\"PYSPARK_PYTHON\"] = \"/usr/bin/python3.6\" \n",
    "os.environ[\"PYSPARK_DRIVER_PYTHON\"] = \"/usr/bin/python3\"\n",
    "sys.path.insert(0, os.environ[\"PYLIB\"] +\"/py4j-0.10.7-src.zip\")\n",
    "sys.path.insert(0, os.environ[\"PYLIB\"] +\"/pyspark.zip\")\n",
    "\n",
    "# NOTE: Whichever package you want mention here.\n",
    "# os.environ['PYSPARK_SUBMIT_ARGS'] = '--packages com.databricks:spark-xml_2.11:0.6.0 pyspark-shell' \n",
    "# os.environ['PYSPARK_SUBMIT_ARGS'] = '--packages org.apache.spark:spark-avro_2.11:2.4.0 pyspark-shell'\n",
    "os.environ['PYSPARK_SUBMIT_ARGS'] = '--packages com.databricks:spark-xml_2.11:0.6.0,org.apache.spark:spark-avro_2.11:2.4.3 pyspark-shell'\n",
    "# os.environ['PYSPARK_SUBMIT_ARGS'] = '--packages com.databricks:spark-xml_2.11:0.6.0,org.apache.spark:spark-avro_2.11:2.4.0 pyspark-shell'"
   ]
  },
  {
   "cell_type": "code",
   "execution_count": 2,
   "id": "8399f128",
   "metadata": {},
   "outputs": [],
   "source": [
    "#Entrypoint 2.x\n",
    "from pyspark.sql import SparkSession\n",
    "spark = SparkSession.builder.appName(\"Spark SQL basic example\").enableHiveSupport().getOrCreate()\n",
    "\n",
    "# On yarn:\n",
    "# spark = SparkSession.builder.appName(\"Spark SQL basic example\").enableHiveSupport().master(\"yarn\").getOrCreate()\n",
    "# specify .master(\"yarn\")\n",
    "\n",
    "sc = spark.sparkContext"
   ]
  },
  {
   "cell_type": "code",
   "execution_count": 3,
   "id": "7d9aa72c",
   "metadata": {},
   "outputs": [
    {
     "name": "stdout",
     "output_type": "stream",
     "text": [
      "root\n",
      " |-- value: string (nullable = true)\n",
      "\n"
     ]
    }
   ],
   "source": [
    "lines = spark.read.text('file:///home/talentum/test-jupyter/practice/constitution.txt')\n",
    "\n",
    "# lines = spark \\\n",
    "#     .read. \\\n",
    "#     .format(\"socket\") \\\n",
    "#     .option(\"host\", \"localhost\") \\\n",
    "#     .option(\"port\", 9999) \\\n",
    "#     .load()\n",
    "\n",
    "lines.printSchema()"
   ]
  },
  {
   "cell_type": "code",
   "execution_count": 4,
   "id": "d47f03d7",
   "metadata": {},
   "outputs": [
    {
     "name": "stdout",
     "output_type": "stream",
     "text": [
      "+-------------------------------------------------------------------------+\n",
      "|value                                                                    |\n",
      "+-------------------------------------------------------------------------+\n",
      "|We the People of the United States, in Order to form a more perfect      |\n",
      "|Union, establish Justice, insure domestic Tranquility, provide for the   |\n",
      "|common defence, promote the general Welfare, and secure the Blessings of |\n",
      "|Liberty to ourselves and our Posterity, do ordain and establish this     |\n",
      "|Constitution for the United States of America.                           |\n",
      "|Article 1.  Section 1 All legislative Powers herein granted shall be     |\n",
      "|vested in a Congress of the United States, which shall consist of a      |\n",
      "|Senate and House of Representatives.  Section 2 The House of             |\n",
      "|Representatives shall be composed of Members chosen every second Year by |\n",
      "|the People of the several States, and the Electors in each State shall   |\n",
      "|have the Qualifications requisite for Electors of the most numerous      |\n",
      "|Branch of the State Legislature.  No Person shall be a Representative    |\n",
      "|who shall not have attained to the Age of twenty five Years, and been    |\n",
      "|seven Years a Citizen of the United States, and who shall not, when      |\n",
      "|elected, be an Inhabitant of that State in which he shall be chosen.     |\n",
      "|Representatives and direct Taxes shall be apportioned among the several  |\n",
      "|States which may be included within this Union, according to their       |\n",
      "|respective Numbers, which shall be determined by adding to the whole     |\n",
      "|Number of free Persons, including those bound to Service for a Term of   |\n",
      "|Years, and excluding Indians not taxed, three fifths of all other        |\n",
      "+-------------------------------------------------------------------------+\n",
      "only showing top 20 rows\n",
      "\n"
     ]
    }
   ],
   "source": [
    "lines.show(truncate= False)"
   ]
  },
  {
   "cell_type": "code",
   "execution_count": 5,
   "id": "5f745767",
   "metadata": {},
   "outputs": [
    {
     "name": "stdout",
     "output_type": "stream",
     "text": [
      "root\n",
      " |-- value: string (nullable = true)\n",
      " |-- Split: array (nullable = true)\n",
      " |    |-- element: string (containsNull = true)\n",
      "\n"
     ]
    }
   ],
   "source": [
    "import pyspark.sql.functions as F\n",
    "\n",
    "lines = lines.withColumn('Split', F.split(lines.value, ' '))\n",
    "lines.printSchema()"
   ]
  },
  {
   "cell_type": "code",
   "execution_count": 6,
   "id": "037a2d8c",
   "metadata": {},
   "outputs": [
    {
     "name": "stdout",
     "output_type": "stream",
     "text": [
      "+--------------------------------------------------------------------------------------+\n",
      "|Split                                                                                 |\n",
      "+--------------------------------------------------------------------------------------+\n",
      "|[We, the, People, of, the, United, States,, in, Order, to, form, a, more, perfect, ]  |\n",
      "|[Union,, establish, Justice,, insure, domestic, Tranquility,, provide, for, the, ]    |\n",
      "|[common, defence,, promote, the, general, Welfare,, and, secure, the, Blessings, of, ]|\n",
      "|[Liberty, to, ourselves, and, our, Posterity,, do, ordain, and, establish, this, ]    |\n",
      "|[Constitution, for, the, United, States, of, America., , ]                            |\n",
      "|[Article, 1., , Section, 1, All, legislative, Powers, herein, granted, shall, be, ]   |\n",
      "|[vested, in, a, Congress, of, the, United, States,, which, shall, consist, of, a, ]   |\n",
      "|[Senate, and, House, of, Representatives., , Section, 2, The, House, of, ]            |\n",
      "|[Representatives, shall, be, composed, of, Members, chosen, every, second, Year, by, ]|\n",
      "|[the, People, of, the, several, States,, and, the, Electors, in, each, State, shall, ]|\n",
      "|[have, the, Qualifications, requisite, for, Electors, of, the, most, numerous, ]      |\n",
      "|[Branch, of, the, State, Legislature., , No, Person, shall, be, a, Representative, ]  |\n",
      "|[who, shall, not, have, attained, to, the, Age, of, twenty, five, Years,, and, been, ]|\n",
      "|[seven, Years, a, Citizen, of, the, United, States,, and, who, shall, not,, when, ]   |\n",
      "|[elected,, be, an, Inhabitant, of, that, State, in, which, he, shall, be, chosen., , ]|\n",
      "|[Representatives, and, direct, Taxes, shall, be, apportioned, among, the, several, ]  |\n",
      "|[States, which, may, be, included, within, this, Union,, according, to, their, ]      |\n",
      "|[respective, Numbers,, which, shall, be, determined, by, adding, to, the, whole, ]    |\n",
      "|[Number, of, free, Persons,, including, those, bound, to, Service, for, a, Term, of, ]|\n",
      "|[Years,, and, excluding, Indians, not, taxed,, three, fifths, of, all, other, ]       |\n",
      "+--------------------------------------------------------------------------------------+\n",
      "only showing top 20 rows\n",
      "\n"
     ]
    }
   ],
   "source": [
    "lines.select('Split').show(truncate= False)"
   ]
  },
  {
   "cell_type": "code",
   "execution_count": 7,
   "id": "b2681500",
   "metadata": {
    "scrolled": false
   },
   "outputs": [],
   "source": [
    "lines= lines.select(F.explode('Split').alias('Word'))"
   ]
  },
  {
   "cell_type": "code",
   "execution_count": 9,
   "id": "61d9a020",
   "metadata": {},
   "outputs": [
    {
     "name": "stdout",
     "output_type": "stream",
     "text": [
      "+---------+-----+\n",
      "|     Word|count|\n",
      "+---------+-----+\n",
      "|         |  812|\n",
      "|      the|  662|\n",
      "|       of|  493|\n",
      "|    shall|  293|\n",
      "|      and|  256|\n",
      "|       to|  183|\n",
      "|       be|  178|\n",
      "|       or|  157|\n",
      "|       in|  137|\n",
      "|       by|  100|\n",
      "|        a|   94|\n",
      "|   United|   85|\n",
      "|      for|   81|\n",
      "|      any|   79|\n",
      "|President|   72|\n",
      "|      The|   64|\n",
      "|       as|   64|\n",
      "|     have|   63|\n",
      "|  States,|   55|\n",
      "|     such|   52|\n",
      "+---------+-----+\n",
      "only showing top 20 rows\n",
      "\n"
     ]
    }
   ],
   "source": [
    "word_count = lines.groupBy('Word').count()\n",
    "word_count.orderBy('count', ascending = False).show()\n",
    "# df.sort(df.age.desc()).show()"
   ]
  },
  {
   "cell_type": "code",
   "execution_count": null,
   "id": "c3ab1a5e",
   "metadata": {},
   "outputs": [],
   "source": [
    "word_count.show()"
   ]
  },
  {
   "cell_type": "code",
   "execution_count": 10,
   "id": "5ba8580a",
   "metadata": {},
   "outputs": [
    {
     "ename": "AttributeError",
     "evalue": "'function' object has no attribute 'desc'",
     "output_type": "error",
     "traceback": [
      "\u001b[0;31m---------------------------------------------------------------------------\u001b[0m",
      "\u001b[0;31mAttributeError\u001b[0m                            Traceback (most recent call last)",
      "\u001b[0;32m<ipython-input-10-18ac8670e821>\u001b[0m in \u001b[0;36m<module>\u001b[0;34m\u001b[0m\n\u001b[1;32m      1\u001b[0m \u001b[0;32mfrom\u001b[0m \u001b[0mpyspark\u001b[0m\u001b[0;34m.\u001b[0m\u001b[0msql\u001b[0m\u001b[0;34m.\u001b[0m\u001b[0mfunctions\u001b[0m \u001b[0;32mimport\u001b[0m \u001b[0mdesc\u001b[0m\u001b[0;34m,\u001b[0m \u001b[0masc\u001b[0m\u001b[0;34m\u001b[0m\u001b[0;34m\u001b[0m\u001b[0m\n\u001b[0;32m----> 2\u001b[0;31m \u001b[0mword_count\u001b[0m\u001b[0;34m.\u001b[0m\u001b[0morderBy\u001b[0m\u001b[0;34m(\u001b[0m\u001b[0mword_count\u001b[0m\u001b[0;34m.\u001b[0m\u001b[0mcount\u001b[0m\u001b[0;34m.\u001b[0m\u001b[0mdesc\u001b[0m\u001b[0;34m(\u001b[0m\u001b[0;34m)\u001b[0m\u001b[0;34m)\u001b[0m\u001b[0;34m.\u001b[0m\u001b[0mshow\u001b[0m\u001b[0;34m(\u001b[0m\u001b[0;34m)\u001b[0m\u001b[0;34m\u001b[0m\u001b[0;34m\u001b[0m\u001b[0m\n\u001b[0m\u001b[1;32m      3\u001b[0m \u001b[0;31m# df.sort(df.age.desc()).show()\u001b[0m\u001b[0;34m\u001b[0m\u001b[0;34m\u001b[0m\u001b[0;34m\u001b[0m\u001b[0m\n",
      "\u001b[0;31mAttributeError\u001b[0m: 'function' object has no attribute 'desc'"
     ]
    }
   ],
   "source": [
    "from pyspark.sql.functions import desc, asc\n",
    "word_count.orderBy(word_count.count.desc()).show()\n",
    "# df.sort(df.age.desc()).show()"
   ]
  }
 ],
 "metadata": {
  "kernelspec": {
   "display_name": "Python 3",
   "language": "python",
   "name": "python3"
  },
  "language_info": {
   "codemirror_mode": {
    "name": "ipython",
    "version": 3
   },
   "file_extension": ".py",
   "mimetype": "text/x-python",
   "name": "python",
   "nbconvert_exporter": "python",
   "pygments_lexer": "ipython3",
   "version": "3.6.9"
  }
 },
 "nbformat": 4,
 "nbformat_minor": 5
}
