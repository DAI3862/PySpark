{
 "cells": [
  {
   "cell_type": "markdown",
   "id": "3726fc33",
   "metadata": {},
   "source": [
    "# Filter and Count\n",
    "\n",
    "- The RDD transformation `filter()` returns a new RDD containing only the elements that satisfy a particular function. It is useful for filtering large datasets based on a keyword. For this exercise, you'll filter out lines containing keyword `Spark` from `fileRDD` RDD which consists of lines of text from the `README.md` file. Next, you'll count the total number of lines containing the keyword `Spark` and finally print the first `4` lines of the filtered RDD.\n",
    "\n",
    "- Remember, you already have a `SparkContext` `sc`, `file_path` and `fileRDD` available in your workspace.\n",
    "\n"
   ]
  },
  {
   "cell_type": "markdown",
   "id": "2a7fd167",
   "metadata": {},
   "source": [
    "## Instructions\n",
    "- Create `filter()` transformation to select the lines containing the keyword `Spark`.\n",
    "- How many lines in `fileRDD_filter` contains the keyword `Spark`?\n",
    "- Print the first four lines of the resulting RDD."
   ]
  },
  {
   "cell_type": "code",
   "execution_count": 1,
   "id": "0de212f9",
   "metadata": {},
   "outputs": [],
   "source": [
    "# Intialization\n",
    "import os\n",
    "import sys\n",
    "\n",
    "os.environ[\"SPARK_HOME\"] = \"/home/talentum/spark\"\n",
    "os.environ[\"PYLIB\"] = os.environ[\"SPARK_HOME\"] + \"/python/lib\"\n",
    "# In below two lines, use /usr/bin/python2.7 if you want to use Python 2\n",
    "os.environ[\"PYSPARK_PYTHON\"] = \"/usr/bin/python3.6\" \n",
    "os.environ[\"PYSPARK_DRIVER_PYTHON\"] = \"/usr/bin/python3\"\n",
    "sys.path.insert(0, os.environ[\"PYLIB\"] +\"/py4j-0.10.7-src.zip\")\n",
    "sys.path.insert(0, os.environ[\"PYLIB\"] +\"/pyspark.zip\")\n",
    "\n",
    "# NOTE: Whichever package you want mention here.\n",
    "# os.environ['PYSPARK_SUBMIT_ARGS'] = '--packages com.databricks:spark-xml_2.11:0.6.0 pyspark-shell' \n",
    "# os.environ['PYSPARK_SUBMIT_ARGS'] = '--packages org.apache.spark:spark-avro_2.11:2.4.0 pyspark-shell'\n",
    "os.environ['PYSPARK_SUBMIT_ARGS'] = '--packages com.databricks:spark-xml_2.11:0.6.0,org.apache.spark:spark-avro_2.11:2.4.3 pyspark-shell'\n",
    "# os.environ['PYSPARK_SUBMIT_ARGS'] = '--packages com.databricks:spark-xml_2.11:0.6.0,org.apache.spark:spark-avro_2.11:2.4.0 pyspark-shell'"
   ]
  },
  {
   "cell_type": "code",
   "execution_count": 2,
   "id": "cc0b6d9b",
   "metadata": {},
   "outputs": [],
   "source": [
    "#Entrypoint 2.x\n",
    "from pyspark.sql import SparkSession\n",
    "spark = SparkSession.builder.appName(\"Spark SQL basic example\").enableHiveSupport().getOrCreate()\n",
    "\n",
    "# On yarn:\n",
    "# spark = SparkSession.builder.appName(\"Spark SQL basic example\").enableHiveSupport().master(\"yarn\").getOrCreate()\n",
    "# specify .master(\"yarn\")\n",
    "\n",
    "sc = spark.sparkContext"
   ]
  },
  {
   "cell_type": "code",
   "execution_count": 22,
   "id": "94ca69ff",
   "metadata": {},
   "outputs": [
    {
     "name": "stdout",
     "output_type": "stream",
     "text": [
      "The total number of lines with the keyword Spark is 19\n",
      "# Apache Spark\n",
      "Spark is a fast and general cluster computing system for Big Data. It provides\n",
      "rich set of higher-level tools including Spark SQL for SQL and DataFrames,\n",
      "and Spark Streaming for stream processing.\n"
     ]
    }
   ],
   "source": [
    "file_path = 'file:////home/talentum/spark/README.md'\n",
    "\n",
    "# Create a fileRDD from file_path\n",
    "fileRDD = sc.textFile(file_path)\n",
    "\n",
    "# Filter the fileRDD to select lines with Spark keyword\n",
    "fileRDD_filter = fileRDD.filter(lambda line: 'Spark' in line)\n",
    "\n",
    "# How many lines are there in fileRDD?\n",
    "print(\"The total number of lines with the keyword Spark is\", fileRDD_filter.count())\n",
    "\n",
    "# Print the first four lines of fileRDD\n",
    "for line in fileRDD_filter.take(4): \n",
    "  print(line)"
   ]
  },
  {
   "cell_type": "code",
   "execution_count": 25,
   "id": "26d1e766",
   "metadata": {},
   "outputs": [
    {
     "name": "stdout",
     "output_type": "stream",
     "text": [
      "['# Apache Spark', 'Spark is a fast and general cluster computing system for Big Data. It provides', 'rich set of higher-level tools including Spark SQL for SQL and DataFrames,', 'and Spark Streaming for stream processing.', 'You can find the latest Spark documentation, including a programming', '## Building Spark', 'Spark is built using [Apache Maven](http://maven.apache.org/).', 'To build Spark and its example programs, run:', '[\"Building Spark\"](http://spark.apache.org/docs/latest/building-spark.html).', 'For general development tips, including info on developing Spark using an IDE, see [\"Useful Developer Tools\"](http://spark.apache.org/developer-tools.html).', 'The easiest way to start using Spark is through the Scala shell:', 'Spark also comes with several sample programs in the `examples` directory.', '    ./bin/run-example SparkPi', '    MASTER=spark://host:7077 ./bin/run-example SparkPi', 'Testing first requires [building Spark](#building-spark). Once Spark is built, tests', 'Spark uses the Hadoop core library to talk to HDFS and other Hadoop-supported', 'Hadoop, you must build Spark against the same version that your cluster runs.', 'in the online documentation for an overview on how to configure Spark.', 'Please review the [Contribution to Spark guide](http://spark.apache.org/contributing.html)']\n"
     ]
    }
   ],
   "source": [
    "print(fileRDD_filter.collect())"
   ]
  },
  {
   "cell_type": "code",
   "execution_count": 26,
   "id": "7b2ef8fd",
   "metadata": {},
   "outputs": [
    {
     "data": {
      "text/plain": [
       "list"
      ]
     },
     "execution_count": 26,
     "metadata": {},
     "output_type": "execute_result"
    }
   ],
   "source": [
    "type(fileRDD_filter.collect())"
   ]
  },
  {
   "cell_type": "code",
   "execution_count": null,
   "id": "d758ef6a",
   "metadata": {},
   "outputs": [],
   "source": [
    "# terminal commandd: \n",
    "#     talentum@talentum-virtual-machine:~$ cat /home/talentum/spark/README.md | grep -c  'Spark'\n",
    "        \n",
    "# outtput:19\n"
   ]
  }
 ],
 "metadata": {
  "kernelspec": {
   "display_name": "Python 3",
   "language": "python",
   "name": "python3"
  },
  "language_info": {
   "codemirror_mode": {
    "name": "ipython",
    "version": 3
   },
   "file_extension": ".py",
   "mimetype": "text/x-python",
   "name": "python",
   "nbconvert_exporter": "python",
   "pygments_lexer": "ipython3",
   "version": "3.6.9"
  }
 },
 "nbformat": 4,
 "nbformat_minor": 5
}
